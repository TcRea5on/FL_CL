{
 "cells": [
  {
   "cell_type": "code",
   "execution_count": 66,
   "metadata": {},
   "outputs": [],
   "source": [
    "dimport argparse\n",
    "\n",
    "def args_parser():\n",
    "    parser = argparse.ArgumentParser()\n",
    "    # federated arguments\n",
    "    parser.add_argument('--epochs', type=int, default=500, help=\"rounds of training\")\n",
    "    parser.add_argument('--num_users', type=int, default=100, help=\"number of users: K\")\n",
    "    parser.add_argument('--frac', type=float, default=0.1, help=\"the fraction of clients: C\")\n",
    "    parser.add_argument('--local_ep', type=int, default=5, help=\"the number of local epochs: E\")\n",
    "    parser.add_argument('--local_bs', type=int, default=10, help=\"local batch size: B\")\n",
    "    parser.add_argument('--bs', type=int, default=128, help=\"test batch size\")\n",
    "    parser.add_argument('--lr', type=float, default=0.001, help=\"learning rate (default: 0.01)\")\n",
    "    parser.add_argument('--lr_decay', type=float, default=0.95, help=\"lr decay\")\n",
    "    parser.add_argument('--momentum', type=float, default=0.5, help=\"SGD momentum (default: 0.5)\")\n",
    "    parser.add_argument('--split', type=str, default='user', help=\"train-test split type, user or sample\")\n",
    "\n",
    "    # model arguments\n",
    "    parser.add_argument('--model', type=str, default='cnn', help='model name')\n",
    "    parser.add_argument('--kernel_num', type=int, default=9, help='number of each kind of kernel')\n",
    "    parser.add_argument('--kernel_sizes', type=str, default='3,4,5',\n",
    "                        help='comma-separated kernel size to use for convolution')\n",
    "    parser.add_argument('--norm', type=str, default='batch_norm', help=\"batch_norm, layer_norm, or None\")\n",
    "    parser.add_argument('--num_filters', type=int, default=32, help=\"number of filters for conv nets\")\n",
    "    parser.add_argument('--max_pool', type=str, default='True',\n",
    "                        help=\"Whether use max pooling rather than strided convolutions\")\n",
    "\n",
    "    # other arguments\n",
    "    parser.add_argument('--dataset', type=str, default='mnist', help=\"name of dataset\")\n",
    "    parser.add_argument('--iid', action='store_true', help='whether i.i.d or not')\n",
    "    parser.add_argument('--num_classes', type=int, default=10, help=\"number of classes\")\n",
    "    parser.add_argument('--num_channels', type=int, default=1, help=\"number of channels of imges\")\n",
    "    parser.add_argument('--gpu', type=int, default=-1, help=\"GPU ID, -1 for CPU\")\n",
    "    parser.add_argument('--stopping_rounds', type=int, default=10, help='rounds of early stopping')\n",
    "    parser.add_argument('--verbose', action='store_true', help='verbose print')\n",
    "    parser.add_argument('--seed', type=int, default=1, help='random seed (default: 1)')\n",
    "    parser.add_argument('--all_clients', action='store_true', help='aggregation over all clients')\n",
    "    args = parser.parse_args(args=[])\n",
    "    return args"
   ]
  },
  {
   "cell_type": "code",
   "execution_count": 67,
   "metadata": {
    "scrolled": true
   },
   "outputs": [
    {
     "name": "stdout",
     "output_type": "stream",
     "text": [
      "CNNMnist(\n",
      "  (conv1): Conv2d(1, 10, kernel_size=(5, 5), stride=(1, 1))\n",
      "  (conv2): Conv2d(10, 20, kernel_size=(5, 5), stride=(1, 1))\n",
      "  (conv2_drop): Dropout2d(p=0.5, inplace=False)\n",
      "  (fc1): Linear(in_features=320, out_features=50, bias=True)\n",
      "  (fc2): Linear(in_features=50, out_features=10, bias=True)\n",
      ")\n"
     ]
    }
   ],
   "source": [
    "#!/usr/bin/env python\n",
    "# -*- coding: utf-8 -*-\n",
    "# Python version: 3.6\n",
    "\n",
    "import matplotlib\n",
    "matplotlib.use('Agg')\n",
    "import matplotlib.pyplot as plt\n",
    "import copy\n",
    "import numpy as np\n",
    "import random\n",
    "from torchvision import datasets, transforms\n",
    "from collections import deque\n",
    "  \n",
    "import torch\n",
    "import torch.nn as nn\n",
    "import torch.nn.functional as F\n",
    "\n",
    "from utils.sampling import mnist_iid, mnist_noniid, cifar_iid\n",
    "from models.Update import LocalUpdate\n",
    "from models.Nets import MLP, CNNMnist, CNNCifar\n",
    "from models.Fed import FedAvg\n",
    "from models.test import test_img\n",
    "\n",
    "# parse args\n",
    "args = args_parser()\n",
    "args.device = torch.device('cuda:{}'.format(args.gpu) if torch.cuda.is_available() and args.gpu != -1 else 'cpu')\n",
    "\n",
    "# load dataset and split users\n",
    "if args.dataset == 'mnist':\n",
    "    trans_mnist = transforms.Compose([transforms.ToTensor(), transforms.Lambda(lambda x: x.repeat(1,1,1))])\n",
    "    dataset_train = datasets.MNIST('./data/mnist/', train=True, download=False, transform=trans_mnist)\n",
    "    dataset_test = datasets.MNIST('./data/mnist/', train=False, download=True, transform=trans_mnist)\n",
    "    # sample users\n",
    "    args.iid = False\n",
    "    if args.iid:\n",
    "        dict_users = mnist_iid(dataset_train, args.num_users)\n",
    "    else:\n",
    "        dict_users = mnist_noniid(dataset_train, args.num_users)\n",
    "elif args.dataset == 'cifar':\n",
    "    trans_cifar = transforms.Compose([transforms.ToTensor(), transforms.Normalize((0.5, 0.5, 0.5), (0.5, 0.5, 0.5))])\n",
    "    dataset_train = datasets.CIFAR10('./data/cifar', train=True, download=True, transform=trans_cifar)\n",
    "    dataset_test = datasets.CIFAR10('./data/cifar', train=False, download=True, transform=trans_cifar)\n",
    "    if args.iid:\n",
    "        dict_users = cifar_iid(dataset_train, args.num_users)\n",
    "    else:\n",
    "        exit('Error: only consider IID setting in CIFAR10')\n",
    "else:\n",
    "    exit('Error: unrecognized dataset')\n",
    "img_size = dataset_train[0][0].shape\n",
    "\n",
    "# build model\n",
    "if args.model == 'cnn' and args.dataset == 'cifar':\n",
    "    net_glob = CNNCifar(args=args).to(args.device)\n",
    "elif args.model == 'cnn' and args.dataset == 'mnist':\n",
    "    net_glob = CNNMnist(args=args).to(args.device)\n",
    "elif args.model == 'mlp':\n",
    "    len_in = 1\n",
    "    for x in img_size:\n",
    "        len_in *= x\n",
    "    net_glob = MLP(dim_in=len_in, dim_hidden=200, dim_out=args.num_classes).to(args.device)\n",
    "else:\n",
    "    exit('Error: unrecognized model')\n",
    "print(net_glob)\n",
    "net_glob.train()\n",
    "\n",
    "# copy weights\n",
    "w_glob = net_glob.state_dict()"
   ]
  },
  {
   "cell_type": "code",
   "execution_count": 68,
   "metadata": {},
   "outputs": [],
   "source": [
    "class MemoryBuffer: # MemoryBuffer类实现的功能：buffer内采样，往buffer里塞（sars）\n",
    "\n",
    "    def __init__(self, size):\n",
    "        self.buffer = deque(maxlen=size) #buffer设置为双端队列\n",
    "        self.maxSize = size\n",
    "        self.len = 0\n",
    "        \n",
    "    def state_reco(self, s):\n",
    "        s_1 = [i[0] for i in s]\n",
    "        s_2 = [i[1] for i in s]\n",
    "        s_3 = [i[2] for i in s]\n",
    "        return [torch.cat(s_1),torch.cat(s_2),torch.cat(s_3)]\n",
    "\n",
    "    def sample(self, count):\n",
    "        \"\"\"\n",
    "        samples a random batch from the replay memory buffer\n",
    "        :param count: batch size\n",
    "        :return: batch (numpy array)\n",
    "        \"\"\"\n",
    "        batch = []\n",
    "        count = min(count, self.len)\n",
    "        batch = random.sample(self.buffer, count) # 随机取样\n",
    "\n",
    "        s_arr = [arr[0] for arr in batch]\n",
    "        a_arr = torch.cat([arr[1] for arr in batch])\n",
    "        r_arr = torch.tensor([arr[2] for arr in batch]).reshape(-1,1)\n",
    "        s1_arr = [arr[3] for arr in batch]\n",
    "\n",
    "        return self.state_reco(s_arr), a_arr, r_arr, self.state_reco(s1_arr)\n",
    "\n",
    "    def len(self):\n",
    "        return self.len\n",
    "\n",
    "    def add(self, s, a, r, s1):\n",
    "        \"\"\"\n",
    "        adds a particular transaction in the memory buffer\n",
    "        :param s: current state\n",
    "        :param a: action taken\n",
    "        :param r: reward received\n",
    "        :param s1: next state\n",
    "        :return:\n",
    "        \"\"\"\n",
    "        transition = (s,a,r,s1)\n",
    "        self.len += 1\n",
    "        if self.len > self.maxSize:\n",
    "            self.len = self.maxSize\n",
    "        self.buffer.append(transition)"
   ]
  },
  {
   "cell_type": "code",
   "execution_count": 69,
   "metadata": {},
   "outputs": [],
   "source": [
    "class Actor(nn.Module):\n",
    "\n",
    "    def __init__(self, parameter_dim, loss_dim, action_dim):\n",
    "        super(Actor, self).__init__()\n",
    "\n",
    "        self.parameter_dim = parameter_dim\n",
    "        self.loss_dim = loss_dim\n",
    "        self.action_dim = action_dim\n",
    "\n",
    "        self.fc1 = nn.Linear(parameter_dim,action_dim)\n",
    "\n",
    "        self.fc2 = nn.Linear(action_dim*12,action_dim)\n",
    "\n",
    "    def forward(self, parameters, last_loss, last_weight):\n",
    "        parameter_lst = []\n",
    "        for i in range(self.action_dim):\n",
    "            parameter_lst.append(self.fc1(parameters[:,i,:]))\n",
    "        parameter_layer = torch.cat(parameter_lst,dim=1)\n",
    "        x = torch.cat([parameter_layer,last_loss, last_weight],dim=1)\n",
    "        action = F.softmax(self.fc2(x),dim=1)\n",
    "\n",
    "        return action\n",
    "\n",
    "class Critic(nn.Module):\n",
    "\n",
    "    def __init__(self, parameter_dim, loss_dim, action_dim):\n",
    "        super(Critic, self).__init__()\n",
    "\n",
    "        self.parameter_dim = parameter_dim\n",
    "        self.loss_dim = loss_dim\n",
    "        self.action_dim = action_dim\n",
    "\n",
    "        self.fc1 = nn.Linear(parameter_dim,action_dim)\n",
    "\n",
    "        self.fc2 = nn.Linear(action_dim*13,1)\n",
    "\n",
    "    def forward(self, parameters, last_loss, last_weight, action):\n",
    "        parameter_lst = []\n",
    "        for i in range(self.action_dim):\n",
    "            parameter_lst.append(self.fc1(parameters[:,i,:]))\n",
    "        parameter_layer = torch.cat(parameter_lst,dim=1)\n",
    "        x = torch.cat([parameter_layer,last_loss, last_weight, action],dim=1)\n",
    "        q = self.fc2(x)\n",
    "\n",
    "        return q"
   ]
  },
  {
   "cell_type": "code",
   "execution_count": 70,
   "metadata": {},
   "outputs": [],
   "source": [
    "GAMMA=0.8\n",
    "class Trainer:\n",
    "\n",
    "    def __init__(self, parameter_dim, loss_dim, action_dim, replay_buffer):\n",
    "        self.parameter_dim = parameter_dim\n",
    "        self.loss_dim = loss_dim\n",
    "        self.action_dim = action_dim\n",
    "        self.replay_buffer = replay_buffer\n",
    "        self.iter = 0\n",
    "        #self.noise = utils.OrnsteinUhlenbeckActionNoise(self.action_dim)\n",
    "\n",
    "        self.actor = Actor(self.parameter_dim, \n",
    "                                 self.loss_dim, \n",
    "                                 self.action_dim)\n",
    "        self.target_actor = Actor(self.parameter_dim, \n",
    "                                 self.loss_dim, \n",
    "                                 self.action_dim)\n",
    "        self.actor_optimizer = torch.optim.Adam(self.actor.parameters(),0.01)\n",
    "\n",
    "        self.critic = Critic(self.parameter_dim, \n",
    "                                 self.loss_dim, \n",
    "                                 self.action_dim)\n",
    "        self.target_critic = Critic(self.parameter_dim, \n",
    "                                 self.loss_dim, \n",
    "                                 self.action_dim)\n",
    "        self.critic_optimizer = torch.optim.Adam(self.critic.parameters(),0.01)\n",
    "\n",
    "        self.hard_update(self.target_actor, self.actor)\n",
    "        self.hard_update(self.target_critic, self.critic)\n",
    "\n",
    "    def soft_update(self, target, source, tau):\n",
    "        for target_param, param in zip(target.parameters(), source.parameters()):\n",
    "            target_param.data.copy_(\n",
    "                target_param.data * (1.0 - tau) + param.data * tau\n",
    "            )\n",
    "    def hard_update(self, target, source):\n",
    "        for target_param, param in zip(target.parameters(), source.parameters()):\n",
    "                target_param.data.copy_(param.data)\n",
    "                \n",
    "    def get_exploitation_action(self, parameters, last_loss, last_weight):\n",
    "        action = self.target_actor.forward(parameters, last_loss, last_weight).detach()\n",
    "        return action.data.numpy()\n",
    "\n",
    "#     def get_exploration_action(self, state):\n",
    "#         \"\"\"\n",
    "#         gets the action from actor added with exploration noise\n",
    "#         :param state: state (Numpy array)\n",
    "#         :return: sampled action (Numpy array)\n",
    "#         \"\"\"\n",
    "#         state = Variable(torch.from_numpy(state))\n",
    "#         action = self.actor.forward(state).detach()\n",
    "#         new_action = action.data.numpy() + (self.noise.sample())\n",
    "#         return new_action\n",
    "\n",
    "    def optimize(self):\n",
    "        \"\"\"\n",
    "        Samples a random batch from replay memory and performs optimization\n",
    "        :return:\n",
    "        \"\"\"\n",
    "        s1,a1,r1,s2 = self.replay_buffer.sample(8)\n",
    "\n",
    "#         s1 = Variable(torch.from_numpy(s1))\n",
    "#         a1 = Variable(torch.from_numpy(a1))\n",
    "#         r1 = Variable(torch.from_numpy(r1))\n",
    "#         s2 = Variable(torch.from_numpy(s2))\n",
    "\n",
    "        # ---------------------- optimize critic ----------------------\n",
    "        # Use target actor exploitation policy here for loss evaluation\n",
    "        # 这里应该是TD的方法\n",
    "        a2 = self.target_actor.forward(s2[0],s2[1],s2[2]).detach()\n",
    "        next_val = torch.squeeze(self.target_critic.forward(s2[0],s2[1],s2[2], a2).detach())\n",
    "        # y_exp = r + gamma*Q'( s2, pi'(s2))\n",
    "        y_expected = r1 + GAMMA*next_val\n",
    "        # y_pred = Q( s1, a1)\n",
    "        y_predicted = torch.squeeze(self.critic.forward(s1[0],s1[1],s1[2], a1))\n",
    "        # compute critic loss, and update the critic\n",
    "        loss_critic = F.smooth_l1_loss(y_predicted, y_expected)\n",
    "        self.critic_optimizer.zero_grad()\n",
    "        loss_critic.backward(retain_graph=True)\n",
    "        self.critic_optimizer.step()\n",
    "\n",
    "        # ---------------------- optimize actor ----------------------\n",
    "        pred_a1 = self.actor.forward(s1[0],s1[1],s1[2])\n",
    "        loss_actor = -1*torch.sum(self.critic.forward(s1[0],s1[1],s1[2], pred_a1))\n",
    "        self.actor_optimizer.zero_grad()\n",
    "        loss_actor.backward(retain_graph=True)\n",
    "        self.actor_optimizer.step()\n",
    "\n",
    "        self.soft_update(self.target_actor, self.actor, 0.001)\n",
    "        self.soft_update(self.target_critic, self.critic, 0.001)\n",
    "\n",
    "        # if self.iter % 100 == 0:\n",
    "        #     print 'Iteration :- ', self.iter, ' Loss_actor :- ', loss_actor.data.numpy(),\\\n",
    "        #         ' Loss_critic :- ', loss_critic.data.numpy()\n",
    "        # self.iter += 1\n",
    "\n",
    "    def save_models(self, episode_count):\n",
    "        torch.save(self.target_actor.state_dict(), './Models/' + str(episode_count) + '_actor.pt')\n",
    "        torch.save(self.target_critic.state_dict(), './Models/' + str(episode_count) + '_critic.pt')\n",
    "        \n",
    "    def load_models(self, episode):\n",
    "        self.actor.load_state_dict(torch.load('./Models/' + str(episode) + '_actor.pt'))\n",
    "        self.critic.load_state_dict(torch.load('./Models/' + str(episode) + '_critic.pt'))\n",
    "        utils.hard_update(self.target_actor, self.actor)\n",
    "        utils.hard_update(self.target_critic, self.critic)"
   ]
  },
  {
   "cell_type": "code",
   "execution_count": 71,
   "metadata": {},
   "outputs": [],
   "source": [
    "paramter = []\n",
    "for i in w_glob.keys():\n",
    "    paramter.append(w_glob[i].reshape(1,-1))\n",
    "\n",
    "parameter_dim = torch.cat(paramter,axis=1).shape[1]\n",
    "loss_dim = max(int(args.frac * args.num_users), 1)\n",
    "action_dim = max(int(args.frac * args.num_users), 1)"
   ]
  },
  {
   "cell_type": "code",
   "execution_count": 72,
   "metadata": {},
   "outputs": [],
   "source": [
    "replay_buffer = MemoryBuffer(500)\n",
    "trainer = Trainer(parameter_dim, loss_dim, action_dim, replay_buffer)"
   ]
  },
  {
   "cell_type": "code",
   "execution_count": 73,
   "metadata": {},
   "outputs": [],
   "source": [
    "def FedPareto(w,action):\n",
    "    w_avg = copy.deepcopy(w[0])\n",
    "    for k in w_avg.keys():\n",
    "        for i in range(0, len(w)):\n",
    "            if i==0:\n",
    "                w_avg[k] = action[i] * w[i][k]\n",
    "            else:\n",
    "                w_avg[k] += action[i] * w[i][k]\n",
    "    return w_avg"
   ]
  },
  {
   "cell_type": "code",
   "execution_count": 74,
   "metadata": {},
   "outputs": [
    {
     "name": "stderr",
     "output_type": "stream",
     "text": [
      "/opt/conda/lib/python3.7/site-packages/ipykernel_launcher.py:19: UserWarning: Implicit dimension choice for softmax has been deprecated. Change the call to include dim=X as an argument.\n"
     ]
    },
    {
     "name": "stdout",
     "output_type": "stream",
     "text": [
      "Round   0, Average loss 1.743\n",
      "Round   1, Average loss 1.001\n"
     ]
    },
    {
     "name": "stderr",
     "output_type": "stream",
     "text": [
      "/opt/conda/lib/python3.7/site-packages/ipykernel_launcher.py:77: UserWarning: Using a target size (torch.Size([1, 1])) that is different to the input size (torch.Size([])). This will likely lead to incorrect results due to broadcasting. Please ensure they have the same size.\n"
     ]
    },
    {
     "name": "stdout",
     "output_type": "stream",
     "text": [
      "Round   2, Average loss 0.918\n"
     ]
    },
    {
     "name": "stderr",
     "output_type": "stream",
     "text": [
      "/opt/conda/lib/python3.7/site-packages/ipykernel_launcher.py:77: UserWarning: Using a target size (torch.Size([2, 2])) that is different to the input size (torch.Size([2])). This will likely lead to incorrect results due to broadcasting. Please ensure they have the same size.\n"
     ]
    },
    {
     "name": "stdout",
     "output_type": "stream",
     "text": [
      "Round   3, Average loss 0.521\n"
     ]
    },
    {
     "name": "stderr",
     "output_type": "stream",
     "text": [
      "/opt/conda/lib/python3.7/site-packages/ipykernel_launcher.py:77: UserWarning: Using a target size (torch.Size([3, 3])) that is different to the input size (torch.Size([3])). This will likely lead to incorrect results due to broadcasting. Please ensure they have the same size.\n"
     ]
    },
    {
     "name": "stdout",
     "output_type": "stream",
     "text": [
      "Round   4, Average loss 0.619\n"
     ]
    },
    {
     "name": "stderr",
     "output_type": "stream",
     "text": [
      "/opt/conda/lib/python3.7/site-packages/ipykernel_launcher.py:77: UserWarning: Using a target size (torch.Size([4, 4])) that is different to the input size (torch.Size([4])). This will likely lead to incorrect results due to broadcasting. Please ensure they have the same size.\n"
     ]
    },
    {
     "name": "stdout",
     "output_type": "stream",
     "text": [
      "Round   5, Average loss 0.562\n"
     ]
    },
    {
     "name": "stderr",
     "output_type": "stream",
     "text": [
      "/opt/conda/lib/python3.7/site-packages/ipykernel_launcher.py:77: UserWarning: Using a target size (torch.Size([5, 5])) that is different to the input size (torch.Size([5])). This will likely lead to incorrect results due to broadcasting. Please ensure they have the same size.\n"
     ]
    },
    {
     "name": "stdout",
     "output_type": "stream",
     "text": [
      "Round   6, Average loss 0.489\n"
     ]
    },
    {
     "name": "stderr",
     "output_type": "stream",
     "text": [
      "/opt/conda/lib/python3.7/site-packages/ipykernel_launcher.py:77: UserWarning: Using a target size (torch.Size([6, 6])) that is different to the input size (torch.Size([6])). This will likely lead to incorrect results due to broadcasting. Please ensure they have the same size.\n"
     ]
    },
    {
     "name": "stdout",
     "output_type": "stream",
     "text": [
      "Round   7, Average loss 0.420\n"
     ]
    },
    {
     "name": "stderr",
     "output_type": "stream",
     "text": [
      "/opt/conda/lib/python3.7/site-packages/ipykernel_launcher.py:77: UserWarning: Using a target size (torch.Size([7, 7])) that is different to the input size (torch.Size([7])). This will likely lead to incorrect results due to broadcasting. Please ensure they have the same size.\n"
     ]
    },
    {
     "name": "stdout",
     "output_type": "stream",
     "text": [
      "Round   8, Average loss 0.362\n"
     ]
    },
    {
     "name": "stderr",
     "output_type": "stream",
     "text": [
      "/opt/conda/lib/python3.7/site-packages/ipykernel_launcher.py:77: UserWarning: Using a target size (torch.Size([8, 8])) that is different to the input size (torch.Size([8])). This will likely lead to incorrect results due to broadcasting. Please ensure they have the same size.\n"
     ]
    },
    {
     "name": "stdout",
     "output_type": "stream",
     "text": [
      "Round   9, Average loss 0.269\n",
      "Round  10, Average loss 0.359\n",
      "Round  11, Average loss 0.336\n",
      "Round  12, Average loss 0.310\n",
      "Round  13, Average loss 0.329\n",
      "Round  14, Average loss 0.264\n",
      "Round  15, Average loss 0.341\n",
      "Round  16, Average loss 0.294\n",
      "Round  17, Average loss 0.302\n",
      "Round  18, Average loss 0.338\n",
      "Round  19, Average loss 0.266\n",
      "Round  20, Average loss 0.176\n",
      "Round  21, Average loss 0.163\n",
      "Round  22, Average loss 0.230\n",
      "Round  23, Average loss 0.278\n",
      "Round  24, Average loss 0.172\n",
      "Round  25, Average loss 0.284\n",
      "Round  26, Average loss 0.212\n",
      "Round  27, Average loss 0.238\n",
      "Round  28, Average loss 0.248\n",
      "Round  29, Average loss 0.260\n",
      "Round  30, Average loss 0.179\n",
      "Round  31, Average loss 0.188\n",
      "Round  32, Average loss 0.204\n",
      "Round  33, Average loss 0.139\n",
      "Round  34, Average loss 0.217\n",
      "Round  35, Average loss 0.198\n",
      "Round  36, Average loss 0.206\n",
      "Round  37, Average loss 0.174\n",
      "Round  38, Average loss 0.189\n",
      "Round  39, Average loss 0.149\n",
      "Round  40, Average loss 0.146\n",
      "Round  41, Average loss 0.167\n",
      "Round  42, Average loss 0.223\n",
      "Round  43, Average loss 0.170\n",
      "Round  44, Average loss 0.127\n",
      "Round  45, Average loss 0.129\n",
      "Round  46, Average loss 0.174\n",
      "Round  47, Average loss 0.169\n",
      "Round  48, Average loss 0.161\n",
      "Round  49, Average loss 0.185\n",
      "Round  50, Average loss 0.149\n",
      "Round  51, Average loss 0.176\n",
      "Round  52, Average loss 0.168\n",
      "Round  53, Average loss 0.224\n",
      "Round  54, Average loss 0.154\n",
      "Round  55, Average loss 0.187\n",
      "Round  56, Average loss 0.149\n",
      "Round  57, Average loss 0.156\n",
      "Round  58, Average loss 0.134\n",
      "Round  59, Average loss 0.185\n",
      "Round  60, Average loss 0.158\n",
      "Round  61, Average loss 0.142\n",
      "Round  62, Average loss 0.148\n",
      "Round  63, Average loss 0.136\n",
      "Round  64, Average loss 0.156\n",
      "Round  65, Average loss 0.120\n",
      "Round  66, Average loss 0.155\n",
      "Round  67, Average loss 0.122\n",
      "Round  68, Average loss 0.219\n",
      "Round  69, Average loss 0.151\n",
      "Round  70, Average loss 0.225\n",
      "Round  71, Average loss 0.177\n",
      "Round  72, Average loss 0.141\n",
      "Round  73, Average loss 0.153\n",
      "Round  74, Average loss 0.154\n",
      "Round  75, Average loss 0.164\n",
      "Round  76, Average loss 0.146\n",
      "Round  77, Average loss 0.125\n",
      "Round  78, Average loss 0.162\n",
      "Round  79, Average loss 0.162\n",
      "Round  80, Average loss 0.148\n",
      "Round  81, Average loss 0.180\n",
      "Round  82, Average loss 0.166\n",
      "Round  83, Average loss 0.163\n",
      "Round  84, Average loss 0.187\n",
      "Round  85, Average loss 0.114\n",
      "Round  86, Average loss 0.163\n",
      "Round  87, Average loss 0.155\n",
      "Round  88, Average loss 0.165\n",
      "Round  89, Average loss 0.178\n",
      "Round  90, Average loss 0.231\n",
      "Round  91, Average loss 0.163\n",
      "Round  92, Average loss 0.173\n",
      "Round  93, Average loss 0.173\n",
      "Round  94, Average loss 0.160\n",
      "Round  95, Average loss 0.177\n",
      "Round  96, Average loss 0.114\n",
      "Round  97, Average loss 0.175\n",
      "Round  98, Average loss 0.143\n",
      "Round  99, Average loss 0.156\n",
      "Round 100, Average loss 0.139\n",
      "Round 101, Average loss 0.146\n",
      "Round 102, Average loss 0.210\n",
      "Round 103, Average loss 0.159\n",
      "Round 104, Average loss 0.164\n",
      "Round 105, Average loss 0.219\n",
      "Round 106, Average loss 0.187\n",
      "Round 107, Average loss 0.183\n",
      "Round 108, Average loss 0.191\n",
      "Round 109, Average loss 0.167\n",
      "Round 110, Average loss 0.212\n",
      "Round 111, Average loss 0.190\n",
      "Round 112, Average loss 0.165\n",
      "Round 113, Average loss 0.216\n",
      "Round 114, Average loss 0.140\n",
      "Round 115, Average loss 0.206\n",
      "Round 116, Average loss 0.198\n",
      "Round 117, Average loss 0.192\n",
      "Round 118, Average loss 0.173\n",
      "Round 119, Average loss 0.181\n",
      "Round 120, Average loss 0.227\n",
      "Round 121, Average loss 0.179\n",
      "Round 122, Average loss 0.150\n",
      "Round 123, Average loss 0.205\n",
      "Round 124, Average loss 0.159\n",
      "Round 125, Average loss 0.175\n",
      "Round 126, Average loss 0.179\n",
      "Round 127, Average loss 0.190\n",
      "Round 128, Average loss 0.133\n",
      "Round 129, Average loss 0.192\n",
      "Round 130, Average loss 0.171\n"
     ]
    },
    {
     "ename": "KeyboardInterrupt",
     "evalue": "",
     "output_type": "error",
     "traceback": [
      "\u001B[0;31m---------------------------------------------------------------------------\u001B[0m",
      "\u001B[0;31mKeyboardInterrupt\u001B[0m                         Traceback (most recent call last)",
      "\u001B[0;32m<ipython-input-74-05d9a84a9dc7>\u001B[0m in \u001B[0;36m<module>\u001B[0;34m\u001B[0m\n\u001B[1;32m     25\u001B[0m     \u001B[0;32mfor\u001B[0m \u001B[0midx\u001B[0m \u001B[0;32min\u001B[0m \u001B[0midxs_users\u001B[0m\u001B[0;34m:\u001B[0m\u001B[0;34m\u001B[0m\u001B[0;34m\u001B[0m\u001B[0m\n\u001B[1;32m     26\u001B[0m         \u001B[0mlocal\u001B[0m \u001B[0;34m=\u001B[0m \u001B[0mLocalUpdate\u001B[0m\u001B[0;34m(\u001B[0m\u001B[0margs\u001B[0m\u001B[0;34m=\u001B[0m\u001B[0margs\u001B[0m\u001B[0;34m,\u001B[0m \u001B[0mdataset\u001B[0m\u001B[0;34m=\u001B[0m\u001B[0mdataset_train\u001B[0m\u001B[0;34m,\u001B[0m \u001B[0midxs\u001B[0m\u001B[0;34m=\u001B[0m\u001B[0mdict_users\u001B[0m\u001B[0;34m[\u001B[0m\u001B[0midx\u001B[0m\u001B[0;34m]\u001B[0m\u001B[0;34m)\u001B[0m\u001B[0;34m\u001B[0m\u001B[0;34m\u001B[0m\u001B[0m\n\u001B[0;32m---> 27\u001B[0;31m         \u001B[0mw\u001B[0m\u001B[0;34m,\u001B[0m \u001B[0mloss\u001B[0m \u001B[0;34m=\u001B[0m \u001B[0mlocal\u001B[0m\u001B[0;34m.\u001B[0m\u001B[0mtrain\u001B[0m\u001B[0;34m(\u001B[0m\u001B[0mnet\u001B[0m\u001B[0;34m=\u001B[0m\u001B[0mcopy\u001B[0m\u001B[0;34m.\u001B[0m\u001B[0mdeepcopy\u001B[0m\u001B[0;34m(\u001B[0m\u001B[0mnet_glob\u001B[0m\u001B[0;34m)\u001B[0m\u001B[0;34m.\u001B[0m\u001B[0mto\u001B[0m\u001B[0;34m(\u001B[0m\u001B[0margs\u001B[0m\u001B[0;34m.\u001B[0m\u001B[0mdevice\u001B[0m\u001B[0;34m)\u001B[0m\u001B[0;34m)\u001B[0m\u001B[0;34m\u001B[0m\u001B[0;34m\u001B[0m\u001B[0m\n\u001B[0m\u001B[1;32m     28\u001B[0m         \u001B[0;31m############ 储存参数 ##############\u001B[0m\u001B[0;34m\u001B[0m\u001B[0;34m\u001B[0m\u001B[0;34m\u001B[0m\u001B[0m\n\u001B[1;32m     29\u001B[0m         \u001B[0mp_local\u001B[0m \u001B[0;34m=\u001B[0m \u001B[0;34m[\u001B[0m\u001B[0;34m]\u001B[0m\u001B[0;34m\u001B[0m\u001B[0;34m\u001B[0m\u001B[0m\n",
      "\u001B[0;32m/home/chenweilong/federated-learning-cp/models/Update.py\u001B[0m in \u001B[0;36mtrain\u001B[0;34m(self, net)\u001B[0m\n\u001B[1;32m     44\u001B[0m                 \u001B[0mlog_probs\u001B[0m \u001B[0;34m=\u001B[0m \u001B[0mnet\u001B[0m\u001B[0;34m(\u001B[0m\u001B[0mimages\u001B[0m\u001B[0;34m)\u001B[0m\u001B[0;34m\u001B[0m\u001B[0;34m\u001B[0m\u001B[0m\n\u001B[1;32m     45\u001B[0m                 \u001B[0mloss\u001B[0m \u001B[0;34m=\u001B[0m \u001B[0mself\u001B[0m\u001B[0;34m.\u001B[0m\u001B[0mloss_func\u001B[0m\u001B[0;34m(\u001B[0m\u001B[0mlog_probs\u001B[0m\u001B[0;34m,\u001B[0m \u001B[0mlabels\u001B[0m\u001B[0;34m)\u001B[0m\u001B[0;34m\u001B[0m\u001B[0;34m\u001B[0m\u001B[0m\n\u001B[0;32m---> 46\u001B[0;31m                 \u001B[0mloss\u001B[0m\u001B[0;34m.\u001B[0m\u001B[0mbackward\u001B[0m\u001B[0;34m(\u001B[0m\u001B[0;34m)\u001B[0m\u001B[0;34m\u001B[0m\u001B[0;34m\u001B[0m\u001B[0m\n\u001B[0m\u001B[1;32m     47\u001B[0m                 \u001B[0moptimizer\u001B[0m\u001B[0;34m.\u001B[0m\u001B[0mstep\u001B[0m\u001B[0;34m(\u001B[0m\u001B[0;34m)\u001B[0m\u001B[0;34m\u001B[0m\u001B[0;34m\u001B[0m\u001B[0m\n\u001B[1;32m     48\u001B[0m                 \u001B[0;32mif\u001B[0m \u001B[0mself\u001B[0m\u001B[0;34m.\u001B[0m\u001B[0margs\u001B[0m\u001B[0;34m.\u001B[0m\u001B[0mverbose\u001B[0m \u001B[0;32mand\u001B[0m \u001B[0mbatch_idx\u001B[0m \u001B[0;34m%\u001B[0m \u001B[0;36m10\u001B[0m \u001B[0;34m==\u001B[0m \u001B[0;36m0\u001B[0m\u001B[0;34m:\u001B[0m\u001B[0;34m\u001B[0m\u001B[0;34m\u001B[0m\u001B[0m\n",
      "\u001B[0;32m/opt/conda/lib/python3.7/site-packages/torch/tensor.py\u001B[0m in \u001B[0;36mbackward\u001B[0;34m(self, gradient, retain_graph, create_graph)\u001B[0m\n\u001B[1;32m    193\u001B[0m                 \u001B[0mproducts\u001B[0m\u001B[0;34m.\u001B[0m \u001B[0mDefaults\u001B[0m \u001B[0mto\u001B[0m\u001B[0;31m \u001B[0m\u001B[0;31m`\u001B[0m\u001B[0;31m`\u001B[0m\u001B[0;32mFalse\u001B[0m\u001B[0;31m`\u001B[0m\u001B[0;31m`\u001B[0m\u001B[0;34m.\u001B[0m\u001B[0;34m\u001B[0m\u001B[0;34m\u001B[0m\u001B[0m\n\u001B[1;32m    194\u001B[0m         \"\"\"\n\u001B[0;32m--> 195\u001B[0;31m         \u001B[0mtorch\u001B[0m\u001B[0;34m.\u001B[0m\u001B[0mautograd\u001B[0m\u001B[0;34m.\u001B[0m\u001B[0mbackward\u001B[0m\u001B[0;34m(\u001B[0m\u001B[0mself\u001B[0m\u001B[0;34m,\u001B[0m \u001B[0mgradient\u001B[0m\u001B[0;34m,\u001B[0m \u001B[0mretain_graph\u001B[0m\u001B[0;34m,\u001B[0m \u001B[0mcreate_graph\u001B[0m\u001B[0;34m)\u001B[0m\u001B[0;34m\u001B[0m\u001B[0;34m\u001B[0m\u001B[0m\n\u001B[0m\u001B[1;32m    196\u001B[0m \u001B[0;34m\u001B[0m\u001B[0m\n\u001B[1;32m    197\u001B[0m     \u001B[0;32mdef\u001B[0m \u001B[0mregister_hook\u001B[0m\u001B[0;34m(\u001B[0m\u001B[0mself\u001B[0m\u001B[0;34m,\u001B[0m \u001B[0mhook\u001B[0m\u001B[0;34m)\u001B[0m\u001B[0;34m:\u001B[0m\u001B[0;34m\u001B[0m\u001B[0;34m\u001B[0m\u001B[0m\n",
      "\u001B[0;32m/opt/conda/lib/python3.7/site-packages/torch/autograd/__init__.py\u001B[0m in \u001B[0;36mbackward\u001B[0;34m(tensors, grad_tensors, retain_graph, create_graph, grad_variables)\u001B[0m\n\u001B[1;32m     97\u001B[0m     Variable._execution_engine.run_backward(\n\u001B[1;32m     98\u001B[0m         \u001B[0mtensors\u001B[0m\u001B[0;34m,\u001B[0m \u001B[0mgrad_tensors\u001B[0m\u001B[0;34m,\u001B[0m \u001B[0mretain_graph\u001B[0m\u001B[0;34m,\u001B[0m \u001B[0mcreate_graph\u001B[0m\u001B[0;34m,\u001B[0m\u001B[0;34m\u001B[0m\u001B[0;34m\u001B[0m\u001B[0m\n\u001B[0;32m---> 99\u001B[0;31m         allow_unreachable=True)  # allow_unreachable flag\n\u001B[0m\u001B[1;32m    100\u001B[0m \u001B[0;34m\u001B[0m\u001B[0m\n\u001B[1;32m    101\u001B[0m \u001B[0;34m\u001B[0m\u001B[0m\n",
      "\u001B[0;31mKeyboardInterrupt\u001B[0m: "
     ]
    }
   ],
   "source": [
    "# training\n",
    "loss_train = []\n",
    "cv_loss, cv_acc = [], []\n",
    "val_loss_pre, counter = 0, 0\n",
    "net_best = None\n",
    "best_loss = None\n",
    "val_acc_list, net_list = [], []\n",
    "\n",
    "loss_save = []\n",
    "\n",
    "last_replay_data = []\n",
    "for iter in range(args.epochs):\n",
    "    if iter==0:\n",
    "        random_n = 0\n",
    "        n_weight = []\n",
    "        while random_n<10:\n",
    "            n_weight.append(random.random()) # 随机初始化参数\n",
    "            random_n+=1\n",
    "        action = F.softmax(torch.tensor(n_weight))\n",
    "    loss_locals = []\n",
    "    w_locals = []\n",
    "    m = max(int(args.frac * args.num_users), 1)\n",
    "    idxs_users = np.random.choice(range(args.num_users), m, replace=False)\n",
    "    p_collect = []\n",
    "    for idx in idxs_users:\n",
    "        local = LocalUpdate(args=args, dataset=dataset_train, idxs=dict_users[idx])\n",
    "        w, loss = local.train(net=copy.deepcopy(net_glob).to(args.device))\n",
    "        ############ 储存参数 ##############\n",
    "        p_local = []\n",
    "        for i in w.keys():\n",
    "            p_local.append(w[i].reshape(1,-1))\n",
    "        p_collect.append(torch.cat(p_local,axis=1))\n",
    "        ############ 储存loss ##############\n",
    "        w_locals.append(copy.deepcopy(w))\n",
    "        loss_locals.append(copy.deepcopy(loss))\n",
    "    p_collect = torch.cat(p_collect).unsqueeze(0)\n",
    "    action_next = trainer.target_actor.forward(p_collect,\n",
    "                                          torch.tensor(loss_locals).reshape(1,-1), \n",
    "                                          action.reshape(1,-1))[0]\n",
    "    ###########计算当前轮的reward，然后将当前轮的reward添加到上一个replay_data中\n",
    "    reward = -sum(loss_locals) / len(loss_locals)\n",
    "    loss_save.append(reward)\n",
    "    if len(last_replay_data)==2:\n",
    "        last_replay_data.append(reward)#r\n",
    "        last_replay_data.append([p_collect, \n",
    "                                 torch.tensor(loss_locals).reshape(1,-1), \n",
    "                                 action.reshape(1,-1)])#s_next\n",
    "        trainer.replay_buffer.add(last_replay_data[0],\n",
    "                                  last_replay_data[1],\n",
    "                                  last_replay_data[2],\n",
    "                                  last_replay_data[3])\n",
    "    last_replay_data = [[p_collect, \n",
    "                         torch.tensor(loss_locals).reshape(1,-1), \n",
    "                         action.reshape(1,-1)], \n",
    "                        action_next.reshape(1,-1)]#s, a\n",
    "    action = action_next\n",
    "    # update global weights\n",
    "    # w_glob = FedAvg(w_locals)\n",
    "    w_glob = FedPareto(w_locals, action_next)\n",
    "\n",
    "    # copy weight to net_glob\n",
    "    net_glob.load_state_dict(w_glob)\n",
    "\n",
    "    # print loss\n",
    "    print('Round {:3d}, Average loss {:.3f}'.format(iter, -reward))\n",
    "    loss_train.append(-reward)\n",
    "    \n",
    "    if iter > 0:\n",
    "        trainer.optimize()\n",
    "    args.lr = max(args.lr*args.lr_decay, 0.001)\n"
   ]
  },
  {
   "cell_type": "code",
   "execution_count": 79,
   "metadata": {
    "scrolled": true
   },
   "outputs": [
    {
     "name": "stdout",
     "output_type": "stream",
     "text": [
      "Training accuracy: 56.29\n",
      "Testing accuracy: 56.48\n"
     ]
    }
   ],
   "source": [
    "# plot loss curve\n",
    "# plt.figure()\n",
    "# plt.plot(range(len(loss_train)), loss_train)\n",
    "# plt.ylabel('train_loss')\n",
    "# plt.show()\n",
    "# plt.savefig('./save/fed_{}_{}_{}_C{}_iid{}.png'.format(args.dataset, args.model, args.epochs, args.frac, args.iid))\n",
    "\n",
    "# testing\n",
    "net_glob.eval()\n",
    "acc_train, loss_train = test_img(net_glob, dataset_train, args)\n",
    "acc_test, loss_test = test_img(net_glob, dataset_test, args)\n",
    "print(\"Training accuracy: {:.2f}\".format(acc_train))\n",
    "print(\"Testing accuracy: {:.2f}\".format(acc_test))"
   ]
  },
  {
   "cell_type": "code",
   "execution_count": null,
   "metadata": {},
   "outputs": [],
   "source": [
    "loss_train"
   ]
  },
  {
   "cell_type": "code",
   "execution_count": null,
   "metadata": {},
   "outputs": [],
   "source": [
    "loss_save"
   ]
  },
  {
   "cell_type": "code",
   "execution_count": 77,
   "metadata": {},
   "outputs": [
    {
     "data": {
      "text/plain": [
       "<function matplotlib.pyplot.show(*args, **kw)>"
      ]
     },
     "execution_count": 77,
     "metadata": {},
     "output_type": "execute_result"
    },
    {
     "data": {
      "image/png": "[encoded data removed]",
      "text/plain": [
       "<Figure size 432x288 with 1 Axes>"
      ]
     },
     "metadata": {
      "needs_background": "light"
     },
     "output_type": "display_data"
    }
   ],
   "source": [
    "%matplotlib inline\n",
    "\n",
    "plt.plot(range(len(loss_save)), loss_save)\n",
    "plt.show"
   ]
  },
  {
   "cell_type": "code",
   "execution_count": null,
   "metadata": {},
   "outputs": [],
   "source": []
  }
 ],
 "metadata": {
  "kernelspec": {
   "display_name": "Python 3",
   "language": "python",
   "name": "python3"
  },
  "language_info": {
   "codemirror_mode": {
    "name": "ipython",
    "version": 3
   },
   "file_extension": ".py",
   "mimetype": "text/x-python",
   "name": "python",
   "nbconvert_exporter": "python",
   "pygments_lexer": "ipython3",
   "version": "3.7.4"
  }
 },
 "nbformat": 4,
 "nbformat_minor": 4
}